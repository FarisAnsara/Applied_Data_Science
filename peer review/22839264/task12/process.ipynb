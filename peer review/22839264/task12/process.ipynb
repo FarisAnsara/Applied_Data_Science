{
 "cells": [
  {
   "cell_type": "markdown",
   "id": "7f1b7f8a",
   "metadata": {},
   "source": [
    "# Data Cleaning"
   ]
  },
  {
   "cell_type": "code",
   "execution_count": 5,
   "id": "cbc606ce",
   "metadata": {},
   "outputs": [
    {
     "name": "stdout",
     "output_type": "stream",
     "text": [
      "           Date    Time Direction Type Occupancy Colour       Brand\n",
      "0    25/10/2023  8.20am        in  car         1  White        Mini\n",
      "1    25/10/2023  8.20am        in  car         1   Grey       Volvo\n",
      "2    25/10/2023  8.20am        in  car         1   Blue        Ford\n",
      "3    25/10/2023  8.20am        in  car         1    Red     Hyundai\n",
      "4    25/10/2023  8.20am        in  car         1   Blue        Ford\n",
      "..          ...     ...       ...  ...       ...    ...         ...\n",
      "151  25/10/2023  8.45am        in  car         2  White     Hyundai\n",
      "152  25/10/2023  8.45am        in  car         1  Black       Skoda\n",
      "153  25/10/2023  8.45am        in  car         1  Black        Ford\n",
      "154  25/10/2023  8.45am        in  car         2  Black       Volvo\n",
      "155  25/10/2023  8.50am        in  car         1   Grey  Volkswagen\n",
      "\n",
      "[156 rows x 7 columns]\n"
     ]
    }
   ],
   "source": [
    "import pandas as pd\n",
    "\n",
    "data = pd.read_csv('raw_data.csv')\n",
    "\n",
    "print(data)"
   ]
  },
  {
   "cell_type": "markdown",
   "id": "29935a25",
   "metadata": {},
   "source": [
    "# Convert Date To The Correct Format\n",
    "From dd/mm/yyyy to dd-mm-yyyy"
   ]
  },
  {
   "cell_type": "code",
   "execution_count": 6,
   "id": "e1b8fb9e",
   "metadata": {},
   "outputs": [
    {
     "name": "stdout",
     "output_type": "stream",
     "text": [
      "           Date    Time Direction Type Occupancy Colour       Brand\n",
      "0    25-10-2023  8.20am        in  car         1  White        Mini\n",
      "1    25-10-2023  8.20am        in  car         1   Grey       Volvo\n",
      "2    25-10-2023  8.20am        in  car         1   Blue        Ford\n",
      "3    25-10-2023  8.20am        in  car         1    Red     Hyundai\n",
      "4    25-10-2023  8.20am        in  car         1   Blue        Ford\n",
      "..          ...     ...       ...  ...       ...    ...         ...\n",
      "151  25-10-2023  8.45am        in  car         2  White     Hyundai\n",
      "152  25-10-2023  8.45am        in  car         1  Black       Skoda\n",
      "153  25-10-2023  8.45am        in  car         1  Black        Ford\n",
      "154  25-10-2023  8.45am        in  car         2  Black       Volvo\n",
      "155  25-10-2023  8.50am        in  car         1   Grey  Volkswagen\n",
      "\n",
      "[156 rows x 7 columns]\n"
     ]
    }
   ],
   "source": [
    "data['Date'] = pd.to_datetime(data['Date'], format='%d/%m/%Y').dt.strftime('%d-%m-%Y')\n",
    "\n",
    "print(data)"
   ]
  },
  {
   "cell_type": "markdown",
   "id": "9c31cca9",
   "metadata": {},
   "source": [
    "# Missing value checking"
   ]
  },
  {
   "cell_type": "code",
   "execution_count": 7,
   "id": "8693aece",
   "metadata": {},
   "outputs": [
    {
     "name": "stdout",
     "output_type": "stream",
     "text": [
      "[False  True]\n",
      "\n",
      "           Date    Time Direction       Type Occupancy Colour Brand\n",
      "8    25-10-2023  8.20am        in        bus       90%   Blue   NaN\n",
      "12   25-10-2023  8.20am        in        bus       75%   Blue   NaN\n",
      "13   25-10-2023  8.20am        in        bus       80%  White   NaN\n",
      "15   25-10-2023  8.20am        in    bicycle         1  Black   NaN\n",
      "42   25-10-2023  8.30am        in        bus       25%   Blue   NaN\n",
      "46   25-10-2023  8.30am        in        bus       20%   Blue   NaN\n",
      "62   25-10-2023  8.35am        in        bus      100%   Blue   NaN\n",
      "66   25-10-2023  8.35am        in        bus      100%   Blue   NaN\n",
      "70   25-10-2023  8.35am        in    bicycle         1  Black   NaN\n",
      "83   25-10-2023  8.35am        in  motorbike         1  Black   NaN\n",
      "85   25-10-2023  8.35am        in        bus       80%   Blue   NaN\n",
      "92   25-10-2023  8.40am        in        bus      100%   Blue   NaN\n",
      "117  25-10-2023  8.45am        in        bus      100%   Blue   NaN\n",
      "123  25-10-2023  8.45am        in        bus       50%  Green   NaN\n",
      "133  25-10-2023  8.45am        in        bus       20%   Blue   NaN\n",
      "140  25-10-2023  8.45am        in    bicycle         1  Black   NaN\n",
      "148  25-10-2023  8.45am        in        bus       70%   Blue   NaN\n"
     ]
    }
   ],
   "source": [
    "missing_values = data.isna()\n",
    "\n",
    "\n",
    "#check if there is any true value (missing value)\n",
    "for i in missing_values:\n",
    "    missing_values_check = missing_values[i].unique()\n",
    "print(missing_values_check)\n",
    "print()    \n",
    "    \n",
    "#show row data that has missing value    \n",
    "row_missing = missing_values.any(axis =1)\n",
    "print(data[row_missing])"
   ]
  },
  {
   "cell_type": "markdown",
   "id": "eede91fe",
   "metadata": {},
   "source": [
    "# Vehicle Type Check for Brand missing data \n",
    "To check if the missing data has vehicle type as 'Bus' or 'Bicycle' or 'Motorbike'\n",
    "\n",
    "As we do not focus on the brand of those vehicle types\n",
    "\n",
    "Thus, the brand data is not necessary to collect for those vehicle types"
   ]
  },
  {
   "cell_type": "code",
   "execution_count": 8,
   "id": "8be10c43",
   "metadata": {},
   "outputs": [
    {
     "name": "stdout",
     "output_type": "stream",
     "text": [
      "Empty DataFrame\n",
      "Columns: [Date, Time, Direction, Type, Occupancy, Colour, Brand]\n",
      "Index: []\n"
     ]
    }
   ],
   "source": [
    "#check missing value for vehicle type apart from bus, bicycle, and motorbike \n",
    "#should not be missing\n",
    "type_missing = (data['Brand'].isna()) & (data['Type'] != 'bus') & (data['Type'] != 'bicycle') & (data['Type'] != 'motorbike')\n",
    "alltype_missing = data[type_missing]\n",
    "\n",
    "print(alltype_missing)"
   ]
  },
  {
   "cell_type": "markdown",
   "id": "48983eb7",
   "metadata": {},
   "source": [
    "# Write to the new file"
   ]
  },
  {
   "cell_type": "code",
   "execution_count": 9,
   "id": "3423b66f",
   "metadata": {},
   "outputs": [],
   "source": [
    "data.to_csv('completed_data.csv', index=False) "
   ]
  },
  {
   "cell_type": "code",
   "execution_count": null,
   "id": "cd255546",
   "metadata": {},
   "outputs": [],
   "source": []
  }
 ],
 "metadata": {
  "kernelspec": {
   "display_name": "Python 3 (ipykernel)",
   "language": "python",
   "name": "python3"
  },
  "language_info": {
   "codemirror_mode": {
    "name": "ipython",
    "version": 3
   },
   "file_extension": ".py",
   "mimetype": "text/x-python",
   "name": "python",
   "nbconvert_exporter": "python",
   "pygments_lexer": "ipython3",
   "version": "3.11.5"
  }
 },
 "nbformat": 4,
 "nbformat_minor": 5
}
